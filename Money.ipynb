{
  "nbformat": 4,
  "nbformat_minor": 0,
  "metadata": {
    "colab": {
      "name": "Money",
      "provenance": [],
      "collapsed_sections": [],
      "mount_file_id": "1Zj46DrXAnq5n60r4VVQqczn8529mtvc1",
      "authorship_tag": "ABX9TyOSN3xF2Leul90T7kucwLK5",
      "include_colab_link": true
    },
    "kernelspec": {
      "name": "python3",
      "display_name": "Python 3"
    },
    "accelerator": "GPU"
  },
  "cells": [
    {
      "cell_type": "markdown",
      "metadata": {
        "id": "view-in-github",
        "colab_type": "text"
      },
      "source": [
        "<a href=\"https://colab.research.google.com/github/yuniton/NarutoAI/blob/master/Money.ipynb\" target=\"_parent\"><img src=\"https://colab.research.google.com/assets/colab-badge.svg\" alt=\"Open In Colab\"/></a>"
      ]
    },
    {
      "cell_type": "code",
      "metadata": {
        "id": "0sopeUvgVQFO",
        "colab_type": "code",
        "outputId": "90c5ac94-8ce0-4c7f-c3e4-01be27bc3d13",
        "colab": {
          "base_uri": "https://localhost:8080/",
          "height": 34
        }
      },
      "source": [
        "%cd ../content/drive/My Drive/Colab Notebooks/Money"
      ],
      "execution_count": 0,
      "outputs": [
        {
          "output_type": "stream",
          "text": [
            "/content/drive/My Drive/Colab Notebooks/Money\n"
          ],
          "name": "stdout"
        }
      ]
    },
    {
      "cell_type": "code",
      "metadata": {
        "id": "CbyIluLjRJhk",
        "colab_type": "code",
        "colab": {}
      },
      "source": [
        "# import numpy as np\n",
        "# import cv2\n",
        "\n",
        "# src = cv2.imread('お札(裏).png',0)\n",
        "# for i in range(256):\n",
        "#   img = src+i\n",
        "#   cv2.imwrite(\"No. \"+str(i)+\" お札(裏) .png\",img)\n",
        "\n",
        "#輝度を0~255まで変動させ一枚ずつ出力"
      ],
      "execution_count": 0,
      "outputs": []
    },
    {
      "cell_type": "code",
      "metadata": {
        "id": "xt1c8v1cigHG",
        "colab_type": "code",
        "colab": {}
      },
      "source": [
        "#ラベリングによる学習/検証データの準備\n",
        "\n",
        "from PIL import Image\n",
        "import os, glob\n",
        "import numpy as np\n",
        "import random, math\n",
        "\n",
        "#画像が保存されているルートディレクトリのパス\n",
        "root_dir = \"Model\"\n",
        "# 商品名\n",
        "categories = [\"良品\",\"不良品\"]\n",
        "\n",
        "# 画像データ用配列\n",
        "X = []\n",
        "# ラベルデータ用配列\n",
        "Y = []\n",
        "\n",
        "# imgg = Image.open(\"Model/良品/No. 1 お札(表) .png\")  # イメージを開く\n",
        "# print(\"元の画像サイズ　width: {}, height: {}\".format(imgg.size[0], imgg.size[1]))  # 元の画像のサイズ出力\n",
        "\n",
        "#画像データごとにadd_sample()を呼び出し、X,Yの配列を返す関数\n",
        "def make_sample(files):\n",
        "    global X, Y\n",
        "    X = []\n",
        "    Y = []\n",
        "    for cat, fname in files:\n",
        "        add_sample(cat, fname)\n",
        "    return np.array(X), np.array(Y)\n",
        "\n",
        "#渡された画像データを読み込んでXに格納し、また、\n",
        "#画像データに対応するcategoriesのidxをY格納する関数\n",
        "def add_sample(cat, fname):\n",
        "    img = Image.open(fname)\n",
        "    img = img.convert(\"RGB\")\n",
        "    img = img.resize((920, 460))\n",
        "    data = np.asarray(img)\n",
        "    X.append(data)\n",
        "    Y.append(cat)\n",
        "\n",
        "#全データ格納用配列\n",
        "allfiles = []\n",
        "\n",
        "#カテゴリ配列の各値と、それに対応するidxを認識し、全データをallfilesにまとめる\n",
        "for idx, cat in enumerate(categories):\n",
        "    image_dir = root_dir + \"/\" + cat\n",
        "    files = glob.glob(image_dir + \"/*.png\")\n",
        "    for f in files:\n",
        "        allfiles.append((idx, f))\n",
        "\n",
        "#シャッフル後、学習データと検証データに分ける\n",
        "random.shuffle(allfiles)\n",
        "th = math.floor(len(allfiles) * 0.8)\n",
        "train = allfiles[0:th]\n",
        "test  = allfiles[th:]\n",
        "X_train, y_train = make_sample(train)\n",
        "X_test, y_test = make_sample(test)\n",
        "xy = (X_train, X_test, y_train, y_test)\n",
        "#データを保存する（データの名前を「money_data.npy」としている）\n",
        "np.save(\"money_data.npy\", xy)"
      ],
      "execution_count": 0,
      "outputs": []
    },
    {
      "cell_type": "code",
      "metadata": {
        "id": "punsOFcVif9y",
        "colab_type": "code",
        "outputId": "d77e7fcf-6430-432c-8afc-6cc936495c10",
        "colab": {
          "base_uri": "https://localhost:8080/",
          "height": 578
        }
      },
      "source": [
        "#モデルの構築\n",
        "\n",
        "from keras import layers, models\n",
        "\n",
        "model = models.Sequential()\n",
        "model.add(layers.Conv2D(32,(3,3),activation=\"relu\",input_shape=(460,920,3)))\n",
        "model.add(layers.MaxPooling2D((2,2)))\n",
        "model.add(layers.Conv2D(64,(3,3),activation=\"relu\"))\n",
        "model.add(layers.MaxPooling2D((2,2)))\n",
        "model.add(layers.Conv2D(128,(3,3),activation=\"relu\"))\n",
        "model.add(layers.MaxPooling2D((2,2)))\n",
        "model.add(layers.Conv2D(128,(3,3),activation=\"relu\"))\n",
        "model.add(layers.MaxPooling2D((2,2)))\n",
        "model.add(layers.Flatten())\n",
        "model.add(layers.Dropout(0.5))  #過学習を防ぐ\n",
        "model.add(layers.Dense(512,activation=\"relu\"))\n",
        "model.add(layers.Dense(2,activation=\"sigmoid\")) #分類先の種類分設定\n",
        "\n",
        "#モデル構成の確認\n",
        "model.summary()"
      ],
      "execution_count": 0,
      "outputs": [
        {
          "output_type": "stream",
          "text": [
            "Using TensorFlow backend.\n"
          ],
          "name": "stderr"
        },
        {
          "output_type": "stream",
          "text": [
            "Model: \"sequential_1\"\n",
            "_________________________________________________________________\n",
            "Layer (type)                 Output Shape              Param #   \n",
            "=================================================================\n",
            "conv2d_1 (Conv2D)            (None, 458, 918, 32)      896       \n",
            "_________________________________________________________________\n",
            "max_pooling2d_1 (MaxPooling2 (None, 229, 459, 32)      0         \n",
            "_________________________________________________________________\n",
            "conv2d_2 (Conv2D)            (None, 227, 457, 64)      18496     \n",
            "_________________________________________________________________\n",
            "max_pooling2d_2 (MaxPooling2 (None, 113, 228, 64)      0         \n",
            "_________________________________________________________________\n",
            "conv2d_3 (Conv2D)            (None, 111, 226, 128)     73856     \n",
            "_________________________________________________________________\n",
            "max_pooling2d_3 (MaxPooling2 (None, 55, 113, 128)      0         \n",
            "_________________________________________________________________\n",
            "conv2d_4 (Conv2D)            (None, 53, 111, 128)      147584    \n",
            "_________________________________________________________________\n",
            "max_pooling2d_4 (MaxPooling2 (None, 26, 55, 128)       0         \n",
            "_________________________________________________________________\n",
            "flatten_1 (Flatten)          (None, 183040)            0         \n",
            "_________________________________________________________________\n",
            "dropout_1 (Dropout)          (None, 183040)            0         \n",
            "_________________________________________________________________\n",
            "dense_1 (Dense)              (None, 512)               93716992  \n",
            "_________________________________________________________________\n",
            "dense_2 (Dense)              (None, 2)                 1026      \n",
            "=================================================================\n",
            "Total params: 93,958,850\n",
            "Trainable params: 93,958,850\n",
            "Non-trainable params: 0\n",
            "_________________________________________________________________\n"
          ],
          "name": "stdout"
        }
      ]
    },
    {
      "cell_type": "code",
      "metadata": {
        "id": "rniu9FOtlKC2",
        "colab_type": "code",
        "outputId": "854e5f80-634e-417f-b06f-433fcc54cd77",
        "colab": {
          "base_uri": "https://localhost:8080/",
          "height": 918
        }
      },
      "source": [
        "#モデルのコンパイル\n",
        "\n",
        "\n",
        "\n",
        "from keras import optimizers\n",
        "\n",
        "from money_model import model\n",
        "\n",
        "model.compile(loss=\"binary_crossentropy\",\n",
        "              optimizer=optimizers.RMSprop(lr=1e-4),\n",
        "              metrics=[\"acc\"])\n",
        "\n",
        "#データの準備\n",
        "\n",
        "from keras.utils import np_utils\n",
        "import numpy as np\n",
        "\n",
        "categories = [\"良品\",\"不良品\"]\n",
        "nb_classes = len(categories)\n",
        "\n",
        "X_train, X_test, y_train, y_test = np.load(\"money_data.npy\", allow_pickle=True)\n",
        "\n",
        "#データの正規化\n",
        "X_train = X_train.astype(\"float\") / 255\n",
        "X_test  = X_test.astype(\"float\") / 255\n",
        "\n",
        "#kerasで扱えるようにcategoriesをベクトルに変換\n",
        "y_train = np_utils.to_categorical(y_train, nb_classes)\n",
        "y_test  = np_utils.to_categorical(y_test, nb_classes)\n",
        "\n",
        "\n",
        "#モデルの学習\n",
        "from preparation import X_train, y_train, X_test, y_test\n",
        "\n",
        "model = model.fit(X_train,\n",
        "                  y_train,\n",
        "                  epochs=10,\n",
        "                  batch_size=10,\n",
        "                  validation_data=(X_test,y_test))"
      ],
      "execution_count": 0,
      "outputs": [
        {
          "output_type": "stream",
          "text": [
            "Model: \"sequential_2\"\n",
            "_________________________________________________________________\n",
            "Layer (type)                 Output Shape              Param #   \n",
            "=================================================================\n",
            "conv2d_5 (Conv2D)            (None, 458, 918, 32)      896       \n",
            "_________________________________________________________________\n",
            "max_pooling2d_5 (MaxPooling2 (None, 229, 459, 32)      0         \n",
            "_________________________________________________________________\n",
            "conv2d_6 (Conv2D)            (None, 227, 457, 64)      18496     \n",
            "_________________________________________________________________\n",
            "max_pooling2d_6 (MaxPooling2 (None, 113, 228, 64)      0         \n",
            "_________________________________________________________________\n",
            "conv2d_7 (Conv2D)            (None, 111, 226, 128)     73856     \n",
            "_________________________________________________________________\n",
            "max_pooling2d_7 (MaxPooling2 (None, 55, 113, 128)      0         \n",
            "_________________________________________________________________\n",
            "conv2d_8 (Conv2D)            (None, 53, 111, 128)      147584    \n",
            "_________________________________________________________________\n",
            "max_pooling2d_8 (MaxPooling2 (None, 26, 55, 128)       0         \n",
            "_________________________________________________________________\n",
            "flatten_2 (Flatten)          (None, 183040)            0         \n",
            "_________________________________________________________________\n",
            "dropout_2 (Dropout)          (None, 183040)            0         \n",
            "_________________________________________________________________\n",
            "dense_3 (Dense)              (None, 512)               93716992  \n",
            "_________________________________________________________________\n",
            "dense_4 (Dense)              (None, 2)                 1026      \n",
            "=================================================================\n",
            "Total params: 93,958,850\n",
            "Trainable params: 93,958,850\n",
            "Non-trainable params: 0\n",
            "_________________________________________________________________\n",
            "Train on 400 samples, validate on 100 samples\n",
            "Epoch 1/10\n",
            "400/400 [==============================] - 20s 51ms/step - loss: 0.2444 - acc: 0.8888 - val_loss: 0.0161 - val_acc: 1.0000\n",
            "Epoch 2/10\n",
            "400/400 [==============================] - 11s 27ms/step - loss: 0.0042 - acc: 1.0000 - val_loss: 5.3234e-04 - val_acc: 1.0000\n",
            "Epoch 3/10\n",
            "400/400 [==============================] - 11s 27ms/step - loss: 1.6255e-04 - acc: 1.0000 - val_loss: 2.8717e-05 - val_acc: 1.0000\n",
            "Epoch 4/10\n",
            "400/400 [==============================] - 11s 27ms/step - loss: 9.4892e-06 - acc: 1.0000 - val_loss: 2.8669e-06 - val_acc: 1.0000\n",
            "Epoch 5/10\n",
            "400/400 [==============================] - 11s 27ms/step - loss: 1.0808e-06 - acc: 1.0000 - val_loss: 4.3174e-07 - val_acc: 1.0000\n",
            "Epoch 6/10\n",
            "400/400 [==============================] - 11s 27ms/step - loss: 1.5905e-07 - acc: 1.0000 - val_loss: 5.4786e-08 - val_acc: 1.0000\n",
            "Epoch 7/10\n",
            "400/400 [==============================] - 11s 27ms/step - loss: 2.4261e-08 - acc: 1.0000 - val_loss: 1.4255e-08 - val_acc: 1.0000\n",
            "Epoch 8/10\n",
            "400/400 [==============================] - 11s 27ms/step - loss: 7.3941e-09 - acc: 1.0000 - val_loss: 4.4970e-09 - val_acc: 1.0000\n",
            "Epoch 9/10\n",
            "400/400 [==============================] - 11s 27ms/step - loss: 2.9844e-09 - acc: 1.0000 - val_loss: 2.9032e-09 - val_acc: 1.0000\n",
            "Epoch 10/10\n",
            "400/400 [==============================] - 11s 27ms/step - loss: 2.1020e-09 - acc: 1.0000 - val_loss: 2.2262e-09 - val_acc: 1.0000\n"
          ],
          "name": "stdout"
        }
      ]
    },
    {
      "cell_type": "code",
      "metadata": {
        "id": "DFYHMoZylJ5O",
        "colab_type": "code",
        "colab": {}
      },
      "source": [
        "# #データの準備\n",
        "\n",
        "# from keras.utils import np_utils\n",
        "# import numpy as np\n",
        "\n",
        "# categories = [\"良品\",\"不良品\"]\n",
        "# nb_classes = len(categories)\n",
        "\n",
        "# X_train, X_test, y_train, y_test = np.load(\"money_data.npy\", allow_pickle=True)\n",
        "\n",
        "# #データの正規化\n",
        "# X_train = X_train.astype(\"float\") / 255\n",
        "# X_test  = X_test.astype(\"float\") / 255\n",
        "\n",
        "# #kerasで扱えるようにcategoriesをベクトルに変換\n",
        "# y_train = np_utils.to_categorical(y_train, nb_classes)\n",
        "# y_test  = np_utils.to_categorical(y_test, nb_classes)\n",
        "\n",
        "\n"
      ],
      "execution_count": 0,
      "outputs": []
    },
    {
      "cell_type": "code",
      "metadata": {
        "id": "OyNUxq_AlJxO",
        "colab_type": "code",
        "outputId": "4f19cfb9-3d23-4499-c626-c6ec90be59ec",
        "colab": {
          "base_uri": "https://localhost:8080/",
          "height": 902
        }
      },
      "source": [
        "#学習結果を表示\n",
        "\n",
        "import matplotlib.pyplot as plt\n",
        "\n",
        "from model_compile import model\n",
        "\n",
        "acc = model.history['acc']\n",
        "val_acc = model.history['val_acc']\n",
        "loss = model.history['loss']\n",
        "val_loss = model.history['val_loss']\n",
        "\n",
        "epochs = range(len(acc))\n",
        "\n",
        "plt.plot(epochs, acc, 'bo', label='Training acc')\n",
        "plt.plot(epochs, val_acc, 'b', label='Validation acc')\n",
        "plt.title('Training and validation accuracy')\n",
        "plt.legend()\n",
        "plt.savefig('model_accuracy_graph')\n",
        "\n",
        "plt.figure()\n",
        "\n",
        "plt.plot(epochs, loss, 'bo', label='Training loss')\n",
        "plt.plot(epochs, val_loss, 'b', label='Validation loss')\n",
        "plt.title('Training and validation loss')\n",
        "plt.legend()\n",
        "plt.savefig('model_loss_graph')"
      ],
      "execution_count": 0,
      "outputs": [
        {
          "output_type": "stream",
          "text": [
            "Train on 400 samples, validate on 100 samples\n",
            "Epoch 1/10\n",
            "400/400 [==============================] - 14s 36ms/step - loss: 1.8968e-09 - acc: 1.0000 - val_loss: 1.7461e-09 - val_acc: 1.0000\n",
            "Epoch 2/10\n",
            "400/400 [==============================] - 12s 30ms/step - loss: 1.2929e-09 - acc: 1.0000 - val_loss: 1.2525e-09 - val_acc: 1.0000\n",
            "Epoch 3/10\n",
            "400/400 [==============================] - 12s 30ms/step - loss: 9.6109e-10 - acc: 1.0000 - val_loss: 1.0897e-09 - val_acc: 1.0000\n",
            "Epoch 4/10\n",
            "400/400 [==============================] - 12s 30ms/step - loss: 8.2439e-10 - acc: 1.0000 - val_loss: 1.0175e-09 - val_acc: 1.0000\n",
            "Epoch 5/10\n",
            "400/400 [==============================] - 12s 30ms/step - loss: 7.7730e-10 - acc: 1.0000 - val_loss: 9.1581e-10 - val_acc: 1.0000\n",
            "Epoch 6/10\n",
            "400/400 [==============================] - 12s 30ms/step - loss: 7.2999e-10 - acc: 1.0000 - val_loss: 8.3711e-10 - val_acc: 1.0000\n",
            "Epoch 7/10\n",
            "400/400 [==============================] - 12s 30ms/step - loss: 6.9392e-10 - acc: 1.0000 - val_loss: 7.7249e-10 - val_acc: 1.0000\n",
            "Epoch 8/10\n",
            "400/400 [==============================] - 12s 30ms/step - loss: 5.9099e-10 - acc: 1.0000 - val_loss: 7.1189e-10 - val_acc: 1.0000\n",
            "Epoch 9/10\n",
            "400/400 [==============================] - 12s 30ms/step - loss: 5.6780e-10 - acc: 1.0000 - val_loss: 6.6364e-10 - val_acc: 1.0000\n",
            "Epoch 10/10\n",
            "400/400 [==============================] - 12s 30ms/step - loss: 5.5611e-10 - acc: 1.0000 - val_loss: 6.2774e-10 - val_acc: 1.0000\n"
          ],
          "name": "stdout"
        },
        {
          "output_type": "display_data",
          "data": {
            "image/png": "[encoded data removed]",
            "text/plain": [
              "<Figure size 432x288 with 1 Axes>"
            ]
          },
          "metadata": {
            "tags": [],
            "needs_background": "light"
          }
        },
        {
          "output_type": "display_data",
          "data": {
            "image/png": "[encoded data removed]",
            "text/plain": [
              "<Figure size 432x288 with 1 Axes>"
            ]
          },
          "metadata": {
            "tags": [],
            "needs_background": "light"
          }
        }
      ]
    },
    {
      "cell_type": "code",
      "metadata": {
        "id": "pK5CHABjlJpy",
        "colab_type": "code",
        "colab": {}
      },
      "source": [
        "#モデルの保存\n",
        "from model_compile import model\n",
        "\n",
        "json_string = model.model.to_json()\n",
        "open('money_modelResult.json', 'w').write(json_string)\n",
        "\n",
        "#重みの保存\n",
        "\n",
        "hdf5_file = \"money_modelResult.hdf5\"\n",
        "model.model.save_weights(hdf5_file)"
      ],
      "execution_count": 0,
      "outputs": []
    },
    {
      "cell_type": "code",
      "metadata": {
        "id": "Q4i_JzAjmwD5",
        "colab_type": "code",
        "colab": {}
      },
      "source": [
        "from PIL import Image\n",
        "import os, glob\n",
        "import numpy as np\n",
        "import random, math\n",
        "from tensorflow.python import confusion_matrix\n",
        "from sklearn.metrics import accuracy_score\n",
        "\n",
        "\n",
        "\n",
        "# 画像が保存されているディレクトリのパス\n",
        "\n",
        "\n",
        "root_dir = \"TEST\"\n",
        "# 画像が保存されているフォルダ名\n",
        "categories = [\"良品\",\"不良品\"]\n",
        "\n",
        "X = [] # 画像データ\n",
        "Y = [] # ラベルデータ\n",
        "\n",
        "# フォルダごとに分けられたファイルを収集\n",
        "#（categoriesのidxと、画像のファイルパスが紐づいたリストを生成）\n",
        "allfiles = []\n",
        "for idx, cat in enumerate(categories):\n",
        "    image_dir = root_dir + \"/\" + cat\n",
        "    files = glob.glob(image_dir + \"/*.png\")\n",
        "    for f in files:\n",
        "        allfiles.append((idx, f))\n",
        "\n",
        "for cat, fname in allfiles:\n",
        "    img = Image.open(fname)\n",
        "    img = img.convert(\"RGB\")\n",
        "    img = img.resize((920, 460))\n",
        "    data = np.asarray(img)\n",
        "    X.append(data)\n",
        "    Y.append(cat)\n",
        "\n",
        "x = np.array(X)\n",
        "y = np.array(Y)\n",
        "\n",
        "\n",
        "np.save(\"money_data_test_X_150.npy\", x)\n",
        "np.save(\"money_data_test_Y_150.npy\", y)\n"
      ],
      "execution_count": 0,
      "outputs": []
    },
    {
      "cell_type": "code",
      "metadata": {
        "id": "SE9U9ZYklJeL",
        "colab_type": "code",
        "outputId": "e8bdac21-f0db-413b-d114-a6ea79a1a6dc",
        "colab": {
          "base_uri": "https://localhost:8080/",
          "height": 68
        }
      },
      "source": [
        "# モデルの精度を測る\n",
        "\n",
        "#評価用のデータの読み込み\n",
        "import numpy as np\n",
        "\n",
        "from model_compile import model\n",
        "from money_testData import x, y\n",
        "\n",
        "eval_X = np.load(\"money_data_test_X_150.npy\")\n",
        "eval_Y = np.load(\"money_data_test_Y_150.npy\")\n",
        "\n",
        "#Yのデータをone-hotに変換\n",
        "from keras.utils import np_utils\n",
        "\n",
        "test_Y = np_utils.to_categorical(eval_Y,2)\n",
        "\n",
        "score = model.model.evaluate(x=eval_X,y=test_Y)\n",
        "\n",
        "print('loss=', score[0])\n",
        "print('accuracy=', score[1])\n",
        "\n"
      ],
      "execution_count": 0,
      "outputs": [
        {
          "output_type": "stream",
          "text": [
            "\r14/14 [==============================] - 1s 74ms/step\n",
            "loss= 0.0\n",
            "accuracy= 1.0\n"
          ],
          "name": "stdout"
        }
      ]
    },
    {
      "cell_type": "code",
      "metadata": {
        "id": "SsG7CJC7osur",
        "colab_type": "code",
        "outputId": "dc13c48d-5698-4721-a46d-e57b215ebbaa",
        "colab": {
          "base_uri": "https://localhost:8080/",
          "height": 51
        }
      },
      "source": [
        "#あなたの千円札を選ばせるプログラム\n",
        "\n",
        "from keras import models\n",
        "from keras.models import model_from_json\n",
        "from keras.preprocessing import image\n",
        "import numpy as np\n",
        "\n",
        "#保存したモデルの読み込み\n",
        "model = model_from_json(open('money_modelResult.json').read())\n",
        "#保存した重みの読み込み\n",
        "model.load_weights('money_modelResult.hdf5')\n",
        "\n",
        "categories = [\"良品\",\"不良品\"]\n",
        "\n",
        "\n",
        "\n",
        "#画像を読み込む\n",
        "img_path =str(input())\n",
        "img = image.load_img(img_path,target_size=(460, 920, 3))\n",
        "x = image.img_to_array(img)\n",
        "x = np.expand_dims(x, axis=0)\n",
        "\n",
        "#予測\n",
        "features = model.predict(x)\n",
        "\n",
        "#予測結果によって処理を分ける\n",
        "if features[0,0] == 1:\n",
        "    print (\"これはあなたの千円札です\")\n",
        "\n",
        "else:\n",
        "    for i in range(0,2):\n",
        "        if features[0,i] == 1:\n",
        "            cat = categories[i]\n",
        "    message = \"私の1000札ではないので、受け取れません\"\n",
        "    print(message)\n",
        "\n"
      ],
      "execution_count": 0,
      "outputs": [
        {
          "output_type": "stream",
          "text": [
            "不良品(2).png\n",
            "私の1000札ではないので、受け取れません\n"
          ],
          "name": "stdout"
        }
      ]
    }
  ]
}