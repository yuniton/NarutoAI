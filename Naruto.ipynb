{
  "nbformat": 4,
  "nbformat_minor": 0,
  "metadata": {
    "colab": {
      "name": "Naruto",
      "provenance": [],
      "collapsed_sections": [],
      "machine_shape": "hm",
      "mount_file_id": "1SND0_pI-roSiapAwTOqSQ9JjkEOFAYul",
      "authorship_tag": "ABX9TyPrP2lZh4vlz7MaVVa+aTYQ",
      "include_colab_link": true
    },
    "kernelspec": {
      "name": "python3",
      "display_name": "Python 3"
    },
    "accelerator": "GPU"
  },
  "cells": [
    {
      "cell_type": "markdown",
      "metadata": {
        "id": "view-in-github",
        "colab_type": "text"
      },
      "source": [
        "<a href=\"https://colab.research.google.com/github/yuniton/NarutoAI/blob/master/Naruto.ipynb\" target=\"_parent\"><img src=\"https://colab.research.google.com/assets/colab-badge.svg\" alt=\"Open In Colab\"/></a>"
      ]
    },
    {
      "cell_type": "code",
      "metadata": {
        "id": "2bLPcWHZc3IU",
        "colab_type": "code",
        "outputId": "ff834f9c-bfe5-4b9c-f59a-4cc1f403e1f0",
        "colab": {
          "base_uri": "https://localhost:8080/",
          "height": 34
        }
      },
      "source": [
        "%cd ../content/drive/My Drive/Colab Notebooks/naruto/src/naruto"
      ],
      "execution_count": 2,
      "outputs": [
        {
          "output_type": "stream",
          "text": [
            "/content/drive/My Drive/Colab Notebooks/naruto/src/naruto\n"
          ],
          "name": "stdout"
        }
      ]
    },
    {
      "cell_type": "code",
      "metadata": {
        "id": "zdOp7qMG8VQ7",
        "colab_type": "code",
        "colab": {}
      },
      "source": [
        "#ラベリングによる学習/検証データの準備\n",
        "\n",
        "from PIL import Image\n",
        "import os, glob\n",
        "import numpy as np\n",
        "import random, math\n",
        "\n",
        "#画像が保存されているルートディレクトリのパス\n",
        "root_dir = \"Model\"\n",
        "# 商品名\n",
        "categories = [\"ナルト\",\"サスケ\",\"サクラ\",\"カカシ先生\"]\n",
        "# 画像データ用配列\n",
        "X = []\n",
        "# ラベルデータ用配列\n",
        "Y = []\n",
        "\n",
        "#画像データごとにadd_sample()を呼び出し、X,Yの配列を返す関数\n",
        "def make_sample(files):\n",
        "    global X, Y\n",
        "    X = []\n",
        "    Y = []\n",
        "    for cat, fname in files:\n",
        "        add_sample(cat, fname)\n",
        "    return np.array(X), np.array(Y)\n",
        "\n",
        "#渡された画像データを読み込んでXに格納し、また、\n",
        "#画像データに対応するcategoriesのidxをY格納する関数\n",
        "def add_sample(cat, fname):\n",
        "    img = Image.open(fname)\n",
        "    img = img.convert(\"RGB\")\n",
        "    img = img.resize((300, 300))\n",
        "    data = np.asarray(img)\n",
        "    X.append(data)\n",
        "    Y.append(cat)\n",
        "\n",
        "#全データ格納用配列\n",
        "allfiles = []\n",
        "\n",
        "#カテゴリ配列の各値と、それに対応するidxを認識し、全データをallfilesにまとめる\n",
        "for idx, cat in enumerate(categories):\n",
        "    image_dir = root_dir + \"/\" + cat\n",
        "    files = glob.glob(image_dir + \"/*.png\")\n",
        "    for f in files:\n",
        "        allfiles.append((idx, f))\n",
        "\n",
        "#シャッフル後、学習データと検証データに分ける\n",
        "random.shuffle(allfiles)\n",
        "th = math.floor(len(allfiles) * 0.7)\n",
        "train = allfiles[0:th]\n",
        "test  = allfiles[th:]\n",
        "X_train, y_train = make_sample(train)\n",
        "X_test, y_test = make_sample(test)\n",
        "xy = (X_train, X_test, y_train, y_test)\n",
        "#データを保存する（データの名前を「tea_data.npy」としている）\n",
        "np.save(\"naruto_data.npy\", xy)"
      ],
      "execution_count": 0,
      "outputs": []
    },
    {
      "cell_type": "code",
      "metadata": {
        "id": "tkpW--NdUCzp",
        "colab_type": "code",
        "colab": {}
      },
      "source": [
        ""
      ],
      "execution_count": 0,
      "outputs": []
    },
    {
      "cell_type": "code",
      "metadata": {
        "id": "6skaa6028igi",
        "colab_type": "code",
        "outputId": "be3ffbd7-a5b4-47c5-f92d-fb71187e391c",
        "colab": {
          "base_uri": "https://localhost:8080/",
          "height": 561
        }
      },
      "source": [
        "#モデルの構築\n",
        "\n",
        "from keras import layers, models\n",
        "\n",
        "model = models.Sequential()\n",
        "model.add(layers.Conv2D(32,(3,3),activation=\"relu\",input_shape=(300,300,3)))\n",
        "model.add(layers.MaxPooling2D((2,2)))\n",
        "model.add(layers.Conv2D(64,(3,3),activation=\"relu\"))\n",
        "model.add(layers.MaxPooling2D((2,2)))\n",
        "model.add(layers.Conv2D(128,(3,3),activation=\"relu\"))\n",
        "model.add(layers.MaxPooling2D((2,2)))\n",
        "model.add(layers.Conv2D(128,(3,3),activation=\"relu\"))\n",
        "model.add(layers.MaxPooling2D((2,2)))\n",
        "model.add(layers.Flatten())\n",
        "model.add(layers.Dropout(0.5))  #過学習を防ぐ\n",
        "model.add(layers.Dense(512,activation=\"relu\"))\n",
        "model.add(layers.Dense(4,activation=\"sigmoid\")) #分類先の種類分設定\n",
        "\n",
        "#モデル構成の確認\n",
        "model.summary()"
      ],
      "execution_count": 20,
      "outputs": [
        {
          "output_type": "stream",
          "text": [
            "Model: \"sequential_4\"\n",
            "_________________________________________________________________\n",
            "Layer (type)                 Output Shape              Param #   \n",
            "=================================================================\n",
            "conv2d_13 (Conv2D)           (None, 298, 298, 32)      896       \n",
            "_________________________________________________________________\n",
            "max_pooling2d_13 (MaxPooling (None, 149, 149, 32)      0         \n",
            "_________________________________________________________________\n",
            "conv2d_14 (Conv2D)           (None, 147, 147, 64)      18496     \n",
            "_________________________________________________________________\n",
            "max_pooling2d_14 (MaxPooling (None, 73, 73, 64)        0         \n",
            "_________________________________________________________________\n",
            "conv2d_15 (Conv2D)           (None, 71, 71, 128)       73856     \n",
            "_________________________________________________________________\n",
            "max_pooling2d_15 (MaxPooling (None, 35, 35, 128)       0         \n",
            "_________________________________________________________________\n",
            "conv2d_16 (Conv2D)           (None, 33, 33, 128)       147584    \n",
            "_________________________________________________________________\n",
            "max_pooling2d_16 (MaxPooling (None, 16, 16, 128)       0         \n",
            "_________________________________________________________________\n",
            "flatten_4 (Flatten)          (None, 32768)             0         \n",
            "_________________________________________________________________\n",
            "dropout_4 (Dropout)          (None, 32768)             0         \n",
            "_________________________________________________________________\n",
            "dense_7 (Dense)              (None, 512)               16777728  \n",
            "_________________________________________________________________\n",
            "dense_8 (Dense)              (None, 4)                 2052      \n",
            "=================================================================\n",
            "Total params: 17,020,612\n",
            "Trainable params: 17,020,612\n",
            "Non-trainable params: 0\n",
            "_________________________________________________________________\n"
          ],
          "name": "stdout"
        }
      ]
    },
    {
      "cell_type": "code",
      "metadata": {
        "id": "ySXnX42j8rbL",
        "colab_type": "code",
        "outputId": "62dcaf97-beab-412e-dd03-540083278e3b",
        "colab": {
          "base_uri": "https://localhost:8080/",
          "height": 34
        }
      },
      "source": [
        "#モデルのコンパイル\n",
        "\n",
        "\n",
        "\n",
        "from keras import optimizers\n",
        "\n",
        "from naruto_model import model\n",
        "\n",
        "model.compile(loss=\"binary_crossentropy\",\n",
        "              optimizer=optimizers.RMSprop(lr=1e-4),\n",
        "              metrics=[\"acc\"])\n",
        "#データの準備\n",
        "\n",
        "from keras.utils import np_utils\n",
        "import numpy as np\n",
        "from sklearn.metrics import confusion_matrix\n",
        "\n",
        "\n",
        "categories = [\"ナルト\",\"サスケ\",\"サクラ\",\"カカシ先生\"]\n",
        "nb_classes = len(categories)\n",
        "\n",
        "X_train, X_test, y_train, y_test = np.load(\"naruto_data.npy\", allow_pickle=True)\n",
        "\n",
        "#データの正規化\n",
        "X_train = X_train.astype(\"float\") / 255\n",
        "X_test  = X_test.astype(\"float\") / 255\n",
        "\n",
        "#kerasで扱えるようにcategoriesをベクトルに変換\n",
        "y_train = np_utils.to_categorical(y_train, nb_classes)\n",
        "y_test  = np_utils.to_categorical(y_test, nb_classes)\n",
        "\n",
        "\n",
        "\n",
        "#モデルの学習\n",
        "from preparation import X_train, y_train, X_test, y_test\n",
        "\n",
        "model = model.fit(X_train,\n",
        "                  y_train,\n",
        "                  epochs=7,\n",
        "                  batch_size=6,\n",
        "                  validation_data=(X_test,y_test))"
      ],
      "execution_count": 17,
      "outputs": [
        {
          "output_type": "stream",
          "text": [
            "414720000\n"
          ],
          "name": "stdout"
        }
      ]
    },
    {
      "cell_type": "code",
      "metadata": {
        "id": "HzB9OMHzXwXE",
        "colab_type": "code",
        "outputId": "95c1f8f6-2d56-4a3f-d082-95a0cef1c243",
        "colab": {
          "base_uri": "https://localhost:8080/",
          "height": 545
        }
      },
      "source": [
        "#学習結果を表示\n",
        "\n",
        "import matplotlib.pyplot as plt\n",
        "\n",
        "from model_compile import model\n",
        "\n",
        "acc = model.history['acc']\n",
        "val_acc = model.history['val_acc']\n",
        "loss = model.history['loss']\n",
        "val_loss = model.history['val_loss']\n",
        "\n",
        "epochs = range(len(acc))\n",
        "\n",
        "plt.plot(epochs, acc, 'bo', label='Training acc')\n",
        "plt.plot(epochs, val_acc, 'b', label='Validation acc')\n",
        "plt.title('Training and validation accuracy')\n",
        "plt.legend()\n",
        "plt.savefig('naruto_accuracy_graph')\n",
        "\n",
        "plt.figure()\n",
        "\n",
        "plt.plot(epochs, loss, 'bo', label='Training loss')\n",
        "plt.plot(epochs, val_loss, 'b', label='Validation loss')\n",
        "plt.title('Training and validation loss')\n",
        "plt.legend()\n",
        "plt.savefig('naruto_loss_graph')"
      ],
      "execution_count": 18,
      "outputs": [
        {
          "output_type": "display_data",
          "data": {
            "image/png": "[encoded data removed]",
            "text/plain": [
              "<Figure size 432x288 with 1 Axes>"
            ]
          },
          "metadata": {
            "tags": [],
            "needs_background": "light"
          }
        },
        {
          "output_type": "display_data",
          "data": {
            "image/png": "[encoded data removed]",
            "text/plain": [
              "<Figure size 432x288 with 1 Axes>"
            ]
          },
          "metadata": {
            "tags": [],
            "needs_background": "light"
          }
        }
      ]
    },
    {
      "cell_type": "code",
      "metadata": {
        "id": "Gs4kt94gs7gX",
        "colab_type": "code",
        "colab": {}
      },
      "source": [
        "#モデルの保存\n",
        "from model_compile import model\n",
        "\n",
        "json_string = model.model.to_json()\n",
        "open('naruto_modelResult.json', 'w').write(json_string)\n",
        "\n",
        "#重みの保存\n",
        "\n",
        "hdf5_file = \"naruto_modelResult.hdf5\"\n",
        "model.model.save_weights(hdf5_file)"
      ],
      "execution_count": 0,
      "outputs": []
    },
    {
      "cell_type": "code",
      "metadata": {
        "id": "htcXaSUks9Bz",
        "colab_type": "code",
        "colab": {
          "base_uri": "https://localhost:8080/",
          "height": 34
        },
        "outputId": "8c55b5b9-123a-4cee-ebf7-baf4658de949"
      },
      "source": [
        "from PIL import Image\n",
        "import os, glob\n",
        "import numpy as np\n",
        "import random, math\n",
        "from tensorflow.python import confusion_matrix\n",
        "from sklearn.metrics import accuracy_score\n",
        "from sklearn.metrics import confusion_matrix\n",
        "\n",
        "\n",
        "\n",
        "\n",
        "# 画像が保存されているディレクトリのパス\n",
        "\n",
        "\n",
        "root_dir = \"TEST\"\n",
        "# 画像が保存されているフォルダ名\n",
        "categories = [\"ナルト\",\"サスケ\",\"サクラ\",\"カカシ先生\"]\n",
        "\n",
        "X = [] # 画像データ\n",
        "Y = [] # ラベルデータ\n",
        "\n",
        "\n",
        "# フォルダごとに分けられたファイルを収集\n",
        "#（categoriesのidxと、画像のファイルパスが紐づいたリストを生成）\n",
        "allfiles = []\n",
        "for idx, cat in enumerate(categories):\n",
        "    image_dir = root_dir + \"/\" + cat\n",
        "    files = glob.glob(image_dir + \"/*.png\")\n",
        "    for f in files:\n",
        "        allfiles.append((idx, f))\n",
        "\n",
        "for cat, fname in allfiles:\n",
        "    img = Image.open(fname)\n",
        "    img = img.convert(\"RGB\")\n",
        "    img = img.resize((300, 300))\n",
        "    data = np.asarray(img)\n",
        "    X.append(data)\n",
        "    Y.append(cat)\n",
        "\n",
        "x = np.array(X)\n",
        "y = np.array(Y)\n",
        "\n",
        "\n",
        "# cm = confusion_matrix(x, y)\n",
        "\n",
        "# print(cm)\n",
        "\n",
        "\n",
        "\n",
        "np.save(\"naruto_data_test_X_150.npy\", x)\n",
        "np.save(\"naruto_data_test_Y_150.npy\", y)\n"
      ],
      "execution_count": 24,
      "outputs": [
        {
          "output_type": "stream",
          "text": [
            "97\n"
          ],
          "name": "stdout"
        }
      ]
    },
    {
      "cell_type": "code",
      "metadata": {
        "id": "dKZjdnYJtCyg",
        "colab_type": "code",
        "outputId": "a5442426-07cd-4994-ceef-3b9d4b9058f7",
        "colab": {
          "base_uri": "https://localhost:8080/",
          "height": 85
        }
      },
      "source": [
        "# モデルの精度を測る\n",
        "\n",
        "#評価用のデータの読み込み\n",
        "import numpy as np\n",
        "\n",
        "from model_compile import model\n",
        "from naruto_testData import x, y\n",
        "\n",
        "eval_X = np.load(\"naruto_data_test_X_150.npy\")\n",
        "eval_Y = np.load(\"naruto_data_test_Y_150.npy\")\n",
        "\n",
        "\n",
        "\n",
        "#Yのデータをone-hotに変換\n",
        "from keras.utils import np_utils\n",
        "\n",
        "test_Y = np_utils.to_categorical(eval_Y,4)\n",
        "\n",
        "\n",
        "score = model.model.evaluate(x=eval_X,y=test_Y)\n",
        "\n",
        "\n",
        "print('loss=', score[0])\n",
        "print('accuracy=', score[1])\n",
        "\n"
      ],
      "execution_count": 36,
      "outputs": [
        {
          "output_type": "stream",
          "text": [
            "26190000\n",
            "97/97 [==============================] - 0s 3ms/step\n",
            "loss= 322.71253574017396\n",
            "accuracy= 0.8067010045051575\n"
          ],
          "name": "stdout"
        }
      ]
    },
    {
      "cell_type": "code",
      "metadata": {
        "id": "GvdUIU1NYGKG",
        "colab_type": "code",
        "colab": {
          "base_uri": "https://localhost:8080/",
          "height": 51
        },
        "outputId": "f06cd34e-8e4a-4b7e-d280-c7f028a131d0"
      },
      "source": [
        "#綾鷹を選ばせるプログラム\n",
        "\n",
        "from keras import models\n",
        "from keras.models import model_from_json\n",
        "from keras.preprocessing import image\n",
        "import numpy as np\n",
        "\n",
        "#保存したモデルの読み込み\n",
        "model = model_from_json(open('naruto_modelResult.json').read())\n",
        "#保存した重みの読み込み\n",
        "model.load_weights('naruto_modelResult.hdf5')\n",
        "\n",
        "categories = [\"ナルト\",\"サスケ\",\"サクラ\",\"カカシ先生\"]\n",
        "\n",
        "#画像を読み込む\n",
        "img_path =str(input())\n",
        "img = image.load_img(img_path,target_size=(300, 300, 3))\n",
        "x = image.img_to_array(img)\n",
        "x = np.expand_dims(x, axis=0)\n",
        "\n",
        "#予測\n",
        "features = model.predict(x)\n",
        "\n",
        "#予測結果によって処理を分ける\n",
        "if features[0,0] == 1:\n",
        "    print (\"うずまきナルトだってばよ！\")\n",
        "\n",
        "else:\n",
        "    for i in range(0,4):\n",
        "        if features[0,i] == 1:\n",
        "            cat = categories[i]\n",
        "    message = \"ナルトを選んでください。（もしかして：あなたが選んでいるのは「\" + cat + \"」ではありませんか？）\"\n",
        "    print(message)\n",
        "\n",
        "\n",
        "\n",
        "# IMG_3475.png\n",
        "# IMG_3687.png\n",
        "# IMG_3741.png\n",
        "# IMG_3817.png"
      ],
      "execution_count": 49,
      "outputs": [
        {
          "output_type": "stream",
          "text": [
            "IMG_3791.png\n",
            "ナルトを選んでください。（もしかして：あなたが選んでいるのは「カカシ先生」ではありませんか？）\n"
          ],
          "name": "stdout"
        }
      ]
    }
  ]
}